{
 "cells": [
  {
   "cell_type": "code",
   "execution_count": 1,
   "id": "5f27bce1",
   "metadata": {},
   "outputs": [],
   "source": [
    "import numpy as np"
   ]
  },
  {
   "cell_type": "code",
   "execution_count": 2,
   "id": "4861f5c4",
   "metadata": {},
   "outputs": [],
   "source": [
    "# Sigmoid activation function\n",
    "def sigmoid(x):\n",
    "    return 1 / (1 + np.exp(-x))\n"
   ]
  },
  {
   "cell_type": "code",
   "execution_count": 3,
   "id": "38d4157c",
   "metadata": {},
   "outputs": [],
   "source": [
    "# Derivative of the sigmoid function\n",
    "def sigmoid_derivative(x):\n",
    "        return x * (1 - x)\n"
   ]
  },
  {
   "cell_type": "code",
   "execution_count": 4,
   "id": "2b24da15",
   "metadata": {},
   "outputs": [],
   "source": [
    "# Mean squared error loss function\n",
    "def mean_squared_error(y_true, y_pred):\n",
    "    return np.mean((y_true - y_pred) ** 2)"
   ]
  },
  {
   "cell_type": "code",
   "execution_count": 5,
   "id": "869b7064",
   "metadata": {},
   "outputs": [],
   "source": [
    "\n",
    "# Artificial Neural Network class\n",
    "class NeuralNetwork:\n",
    "    def __init__(self, input_size, hidden_size, output_size):\n",
    "    # Initialize weights and biases\n",
    "        self.input_size = input_size\n",
    "        self.hidden_size = hidden_size\n",
    "        self.output_size = output_size\n",
    "        self.weights_input_hidden = np.random.randn(self.input_size, self.hidden_size)\n",
    "        self.bias_hidden = np.random.randn(self.hidden_size)\n",
    "        self.weights_hidden_output = np.random.randn(self.hidden_size, self.output_size)\n",
    "        self.bias_output = np.random.randn(self.output_size)\n",
    "    def feedforward(self, X):\n",
    "    # Forward propagation\n",
    "        self.hidden_input = np.dot(X, self.weights_input_hidden) + self.bias_hidden\n",
    "        self.hidden_output = sigmoid(self.hidden_input)\n",
    "        self.final_input = np.dot(self.hidden_output, self.weights_hidden_output) + self.bias_output\n",
    "        self.final_output = sigmoid(self.final_input)\n",
    "        return self.final_output\n",
    "    def backpropagation(self, X, y, output, learning_rate):\n",
    "    # Compute the loss\n",
    "        loss = mean_squared_error(y, output)\n",
    "        # Calculate output layer error\n",
    "        output_error = y - output\n",
    "        output_delta = output_error * sigmoid_derivative(output)\n",
    "        # Calculate hidden layer error\n",
    "        hidden_error = output_delta.dot(self.weights_hidden_output.T)\n",
    "        hidden_delta = hidden_error * sigmoid_derivative(self.hidden_output)\n",
    "        # Update weights and biases\n",
    "        self.weights_hidden_output += self.hidden_output.T.dot(output_delta) * learning_rate\n",
    "        self.bias_output += np.sum(output_delta, axis=0) * learning_rate\n",
    "        self.weights_input_hidden += X.T.dot(hidden_delta) * learning_rate\n",
    "        self.bias_hidden += np.sum(hidden_delta, axis=0) * learning_rate\n",
    "    def train(self, X, y, epochs, learning_rate):\n",
    "        for epoch in range(epochs):\n",
    "            output = self.feedforward(X)\n",
    "            self.backpropagation(X, y, output, learning_rate)\n",
    "            if epoch % 1000 == 0:\n",
    "                loss = mean_squared_error(y, output)\n",
    "                print(f\"Epoch {epoch}, Loss: {loss}\")\n"
   ]
  },
  {
   "cell_type": "code",
   "execution_count": 6,
   "id": "29261a5f",
   "metadata": {},
   "outputs": [
    {
     "name": "stdout",
     "output_type": "stream",
     "text": [
      "Epoch 0, Loss: 0.027143423123015625\n",
      "Epoch 1000, Loss: 0.0009231864415949652\n",
      "Epoch 2000, Loss: 0.000902250685471087\n",
      "Epoch 3000, Loss: 0.0008833788455666125\n",
      "Epoch 4000, Loss: 0.0008652068602073158\n",
      "Epoch 5000, Loss: 0.0008476196887627277\n",
      "Epoch 6000, Loss: 0.0008305115056415182\n",
      "Epoch 7000, Loss: 0.000813783845443137\n",
      "Epoch 8000, Loss: 0.0007973446738034623\n",
      "Epoch 9000, Loss: 0.0007811077375812367\n",
      "Predicted Output:\n",
      "[[88.39147231]\n",
      " [89.03810367]\n",
      " [89.83559544]]\n"
     ]
    }
   ],
   "source": [
    "if __name__ == \"__main__\":\n",
    "# Input data\n",
    "    X = np.array([[2, 9], [1, 5], [3, 6]], dtype=float)\n",
    "    y = np.array([[92], [86], [89]], dtype=float)\n",
    "# Normalize the data\n",
    "    X = X / np.max(X, axis=0)\n",
    "    y = y / 100 # Normalizing the target output for the example\n",
    "    # Create neural network\n",
    "    nn = NeuralNetwork(input_size=2, hidden_size=2, output_size=1)\n",
    "    # Train the neural network\n",
    "    nn.train(X, y, epochs=10000, learning_rate=0.1)\n",
    "    # Test the neural network\n",
    "    output = nn.feedforward(X)\n",
    "    print(\"Predicted Output:\")\n",
    "    print(output * 100) # De-normalize the output for comparison"
   ]
  },
  {
   "cell_type": "code",
   "execution_count": null,
   "id": "aaba17d3",
   "metadata": {},
   "outputs": [],
   "source": []
  }
 ],
 "metadata": {
  "kernelspec": {
   "display_name": "Python 3 (ipykernel)",
   "language": "python",
   "name": "python3"
  },
  "language_info": {
   "codemirror_mode": {
    "name": "ipython",
    "version": 3
   },
   "file_extension": ".py",
   "mimetype": "text/x-python",
   "name": "python",
   "nbconvert_exporter": "python",
   "pygments_lexer": "ipython3",
   "version": "3.12.2"
  }
 },
 "nbformat": 4,
 "nbformat_minor": 5
}
